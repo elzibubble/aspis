{
 "metadata": {
  "name": "",
  "signature": "sha256:9d0afd1f7b444f2cde68ccbed8bb5214f7380874170291866e9362004720f3c3"
 },
 "nbformat": 3,
 "nbformat_minor": 0,
 "worksheets": [
  {
   "cells": [
    {
     "cell_type": "markdown",
     "metadata": {},
     "source": [
      "Gringo Scheduler\n",
      "================\n",
      "\n",
      "Let's get started. gringo.so must be in your PYTHONPATH!"
     ]
    },
    {
     "cell_type": "code",
     "collapsed": false,
     "input": [
      "import gringo\n",
      "c = gringo.Control()"
     ],
     "language": "python",
     "metadata": {},
     "outputs": [],
     "prompt_number": 5
    },
    {
     "cell_type": "markdown",
     "metadata": {},
     "source": [
      "Here's our Gringo code:"
     ]
    },
    {
     "cell_type": "code",
     "collapsed": false,
     "input": [
      "PROGRAM=\"scheduler\"\n",
      "code = \"\"\"\n",
      "% label, order, mem_free\n",
      "host(a, 1, 4).\n",
      "host(b, 2, 4).\n",
      "host(c, 3, 4).\n",
      "host(d, 4, 4).\n",
      "\n",
      "% label, mem_used\n",
      "inst_mem(1, 1).\n",
      "inst_mem(2, 2).\n",
      "inst_mem(3, 2).\n",
      "%inst_mem(4, 4).\n",
      "\n",
      "% Affinities\n",
      "affinity(1, 2).\n",
      "antiaffinity(2, 3).\n",
      "host_cap(a, sriov).\n",
      "inst_cap(1, sriov).\n",
      "\n",
      "% Unpack the above into separate predicates\n",
      "% In a machine-generated problem it's probably easier to skip the packed form.\n",
      "host(H) :- host(H, _, _).\n",
      "host_ord(H, O) :- host(H, O, _).\n",
      "host_mem(H, F) :- host(H, _, F).\n",
      "inst(I) :- inst_mem(I, _).\n",
      "\n",
      "\n",
      "% Each IM must be placed on exactly 1 host\n",
      "% s is short for solution, IE a placing of an instance on a host\n",
      "1 { s(H,I): host(H) } 1 :- inst(I).\n",
      "\n",
      "% The instances on a host may not use more memory than is available\n",
      "0 #sum { USED,s: s(H,I): inst_mem(I,USED) } FREE :- host_mem(H, FREE).\n",
      "\n",
      "% Stack by trying to keep high numbered hosts empty.\n",
      "#minimize { U@O: s(H,I), inst_mem(I, U), host_ord(H,O) }.\n",
      "\n",
      "% Affinities\n",
      "s(H,IA) :- s(H,IB), affinity(IA,IB).\n",
      "not s(H,IA) :- host(H), s(H,IB), antiaffinity(IA,IB).\n",
      "s(H,I) :- inst_cap(I,C), host_cap(H,C).\n",
      "\n",
      "#show s/2.\n",
      "\"\"\"\n",
      "c.add(PROGRAM, [], code)"
     ],
     "language": "python",
     "metadata": {},
     "outputs": [],
     "prompt_number": 6
    },
    {
     "cell_type": "markdown",
     "metadata": {},
     "source": [
      "Models are freed as soon as the solve is complete, so stash the solutions:"
     ]
    },
    {
     "cell_type": "code",
     "collapsed": false,
     "input": [
      "c.ground([(PROGRAM, [])])\n",
      "stash = []\n",
      "with c.solve_iter() as it:\n",
      "    for m in it:\n",
      "        stash.append((m.atoms(), m.optimization()))\n",
      "stash"
     ],
     "language": "python",
     "metadata": {},
     "outputs": [
      {
       "metadata": {},
       "output_type": "pyout",
       "prompt_number": 7,
       "text": [
        "[([s(d,3), s(a,1), s(a,2)], [2, 0, 0, 3]),\n",
        " ([s(a,1), s(a,2), s(b,3)], [0, 0, 2, 3])]"
       ]
      }
     ],
     "prompt_number": 7
    },
    {
     "cell_type": "markdown",
     "metadata": {},
     "source": [
      "Find the optimal solution:"
     ]
    },
    {
     "cell_type": "code",
     "collapsed": false,
     "input": [
      "opt_model = None\n",
      "for (atoms, opt) in stash:\n",
      "    if opt == c.stats['costs']:\n",
      "        opt_model = atoms\n",
      "print opt_model"
     ],
     "language": "python",
     "metadata": {},
     "outputs": [
      {
       "output_type": "stream",
       "stream": "stdout",
       "text": [
        "[s(a,1), s(a,2), s(b,3)]\n"
       ]
      }
     ],
     "prompt_number": 8
    },
    {
     "cell_type": "markdown",
     "metadata": {},
     "source": [
      "Simples!"
     ]
    }
   ],
   "metadata": {}
  }
 ]
}